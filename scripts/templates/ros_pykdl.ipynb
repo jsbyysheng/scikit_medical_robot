{
 "cells": [
  {
   "cell_type": "code",
   "execution_count": 1,
   "id": "e0b7117e-e262-4f01-ac65-7339e22200c0",
   "metadata": {},
   "outputs": [],
   "source": [
    "import copy\n",
    "import os\n",
    "import sys\n",
    "import time\n",
    "import PyKDL as kdl\n",
    "import moveit_commander\n",
    "import numpy as np\n",
    "import rospy\n",
    "from geometry_msgs.msg import Twist\n",
    "from kdl_parser_py.urdf import treeFromParam\n",
    "from sensor_msgs.msg import JointState\n",
    "from tf_conversions import transformations"
   ]
  },
  {
   "cell_type": "code",
   "execution_count": 2,
   "id": "1ecb81fc-542d-40e1-9144-4c907181fa84",
   "metadata": {},
   "outputs": [],
   "source": [
    "rospy.init_node('ros_test', anonymous=True)\n",
    "\n",
    "moveit_commander.roscpp_initialize(sys.argv)\n",
    "robot = moveit_commander.RobotCommander()\n",
    "scene = moveit_commander.PlanningSceneInterface()\n",
    "group_name = \"manipulator\"\n",
    "move_group = moveit_commander.MoveGroupCommander(group_name)\n",
    "# This is very significant！\n",
    "move_group.set_end_effector_link('tool0')\n",
    "# move_group.get_jacobian_matrix is not affected, so you cannot use it directly\n",
    "planning_frame = move_group.get_planning_frame()\n",
    "eef_link = move_group.get_end_effector_link()\n",
    "group_names = robot.get_group_names()\n",
    "current_state = robot.get_current_state()"
   ]
  },
  {
   "cell_type": "code",
   "execution_count": 3,
   "id": "4448e294-3400-4b10-bc1b-e08d7c18ea39",
   "metadata": {},
   "outputs": [],
   "source": [
    "q = np.array(move_group.get_random_joint_values())\n",
    "dq = np.array(move_group.get_random_joint_values())"
   ]
  },
  {
   "cell_type": "code",
   "execution_count": 4,
   "id": "3e764496-531a-4f9e-9fc8-f6aa1db0940d",
   "metadata": {},
   "outputs": [
    {
     "data": {
      "text/plain": [
       "[     1.56747,    0.643346,     1.69934,     4.20481,     2.66007,    -5.67392]"
      ]
     },
     "execution_count": 4,
     "metadata": {},
     "output_type": "execute_result"
    }
   ],
   "source": [
    "_, urdf_tree = treeFromParam(\"robot_description\")\n",
    "urdf_chain = urdf_tree.getChain('base_link', 'tool0')\n",
    "fk_solver_vel = kdl.ChainFkSolverVel_recursive(urdf_chain)\n",
    "\n",
    "def fk_vel(q, dq):\n",
    "    jq = kdl.JntArrayVel(urdf_chain.getNrOfJoints())\n",
    "    for i in range(urdf_chain.getNrOfJoints()):\n",
    "        jq.q[i] = q[i]\n",
    "        jq.qdot[i] = dq[i]\n",
    "    framevel = kdl.FrameVel()\n",
    "    result = fk_solver_vel.JntToCart(jq, framevel)\n",
    "    if 0 != result:\n",
    "        raise Exception(f\"Error solving TCP velocity: Error code = {result}\")\n",
    "    twist = framevel.GetTwist()\n",
    "    return twist\n",
    "\n",
    "fk_vel(q, dq)"
   ]
  }
 ],
 "metadata": {
  "kernelspec": {
   "display_name": "Python 3 (ipykernel)",
   "language": "python",
   "name": "python3"
  },
  "language_info": {
   "codemirror_mode": {
    "name": "ipython",
    "version": 3
   },
   "file_extension": ".py",
   "mimetype": "text/x-python",
   "name": "python",
   "nbconvert_exporter": "python",
   "pygments_lexer": "ipython3",
   "version": "3.8.10"
  }
 },
 "nbformat": 4,
 "nbformat_minor": 5
}
