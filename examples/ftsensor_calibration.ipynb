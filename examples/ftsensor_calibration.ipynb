{
 "cells": [
  {
   "cell_type": "code",
   "execution_count": null,
   "metadata": {},
   "outputs": [],
   "source": [
    "%matplotlib inline\n",
    "\n",
    "import sys\n",
    "import rospy\n",
    "import pickle\n",
    "import numpy as np\n",
    "import matplotlib.pyplot as plt\n",
    "from tqdm.auto import tqdm\n",
    "from geometry_msgs.msg import WrenchStamped\n",
    "from pathlib import Path\n",
    "from pprint import pprint\n",
    "from scikitMedicalRobot.ros import medical_robot_helper, tf2_helper\n",
    "from scikitMedicalRobot.ros.moveit_helper import robot_control\n",
    "from scikitMedicalRobot.calibration.tool import trajectory_recorder, ftsensor_calibration_recorder\n",
    "from scikitMedicalRobot.calibration.tool import ftsensor_calibration\n",
    "from scikitMedicalRobot.utilities import generate_timedate_cache_file"
   ]
  },
  {
   "attachments": {},
   "cell_type": "markdown",
   "metadata": {},
   "source": [
    "Definition: environment"
   ]
  },
  {
   "cell_type": "code",
   "execution_count": null,
   "metadata": {},
   "outputs": [],
   "source": [
    "sim_experiment = True\n",
    "jump_threshold = 4            # cartesian plan jump threshold"
   ]
  },
  {
   "attachments": {},
   "cell_type": "markdown",
   "metadata": {},
   "source": [
    "Definition: link name"
   ]
  },
  {
   "cell_type": "code",
   "execution_count": null,
   "metadata": {},
   "outputs": [],
   "source": [
    "base_link_name = 'base_link'\n",
    "ee_link_name = 'tool0'\n",
    "tool_link_name = 'tool_link'\n",
    "medical_image_link = 'medical_link'\n",
    "tool_rotation_axis = '-y'"
   ]
  },
  {
   "attachments": {},
   "cell_type": "markdown",
   "metadata": {},
   "source": [
    "`scikitMedicalRobot` Toolkits"
   ]
  },
  {
   "cell_type": "code",
   "execution_count": null,
   "metadata": {},
   "outputs": [],
   "source": [
    "rospy.init_node('ftsensor_calibration')\n",
    "\n",
    "th = tf2_helper()\n",
    "mrh = medical_robot_helper(tool_link_name, tool_rotation_axis, ee_link_name, base_link_name, medical_image_link)"
   ]
  },
  {
   "attachments": {},
   "cell_type": "markdown",
   "metadata": {},
   "source": [
    "Robot Control"
   ]
  },
  {
   "cell_type": "code",
   "execution_count": null,
   "metadata": {},
   "outputs": [],
   "source": [
    "rc = robot_control(argv=sys.argv, group_name='manipulator', ee_link_name='tool0')\n",
    "\n",
    "if not sim_experiment:\n",
    "    rc.plan_conf_max_a = 0.04\n",
    "    rc.plan_conf_max_v = 0.04\n",
    "    rc.move_group.limit_max_cartesian_link_speed(0.005)\n",
    "else:\n",
    "    rc.plan_conf_max_a = 0.6\n",
    "    rc.plan_conf_max_v = 0.6\n",
    "    rc.move_group.clear_max_cartesian_link_speed()"
   ]
  },
  {
   "attachments": {},
   "cell_type": "markdown",
   "metadata": {},
   "source": [
    "Functions for sample ft sensor and trans"
   ]
  },
  {
   "cell_type": "code",
   "execution_count": null,
   "metadata": {},
   "outputs": [],
   "source": [
    "N = 100\n",
    "def sample_ftsensor():\n",
    "    datas = [[0.0] * 6] * N\n",
    "    for i in range(N):\n",
    "        wrench_data = rospy.wait_for_message('/ft_sensor_filtered', WrenchStamped, timeout=10)   \n",
    "        datas[i][0] = wrench_data.wrench.force.x\n",
    "        datas[i][1] = wrench_data.wrench.force.y\n",
    "        datas[i][2] = wrench_data.wrench.force.z\n",
    "        datas[i][3] = wrench_data.wrench.torque.x\n",
    "        datas[i][4] = wrench_data.wrench.torque.y\n",
    "        datas[i][5] = wrench_data.wrench.torque.z\n",
    "    return np.mean(datas, axis=0)\n",
    "\n",
    "def sample_trans():\n",
    "    t = th.sample(ref_link='base_link', target_link='tool0')\n",
    "    return th.matrix_from_transform(t.transform)\n",
    "\n",
    "pprint(f'ft sensor: {sample_ftsensor()}')\n",
    "pprint(f'trans: {sample_trans()}')"
   ]
  },
  {
   "attachments": {},
   "cell_type": "markdown",
   "metadata": {},
   "source": [
    "Manual Calibration"
   ]
  },
  {
   "cell_type": "code",
   "execution_count": null,
   "metadata": {},
   "outputs": [],
   "source": [
    "recorder = ftsensor_calibration_recorder(sample_ftsensor, sample_trans)\n",
    "recorder.run()"
   ]
  },
  {
   "attachments": {},
   "cell_type": "markdown",
   "metadata": {},
   "source": [
    "Auto Calibration"
   ]
  },
  {
   "cell_type": "code",
   "execution_count": null,
   "metadata": {},
   "outputs": [],
   "source": [
    "start_joints_position = rc.move_group.get_current_joint_values()"
   ]
  },
  {
   "cell_type": "code",
   "execution_count": null,
   "metadata": {},
   "outputs": [],
   "source": [
    "# load trajectory_recorder data\n",
    "with open('exp/trajectory_recorder/trajectory_recorder_20230103_134417_318093.pickle', 'rb') as f:\n",
    "    joint_states = pickle.load(f)\n",
    "\n",
    "trans_list = []\n",
    "ft_list = []\n",
    "\n",
    "for idx in tqdm(range(len(joint_states))):\n",
    "    rc.move_group.go(joint_states[idx], wait=True)\n",
    "    rc.move_group.stop()\n",
    "    rospy.sleep(1.0)\n",
    "    \n",
    "    trans = sample_trans()\n",
    "    ft = sample_ftsensor()\n",
    "    if trans is not None and ft is not None:\n",
    "        trans_list.append(trans)\n",
    "        ft_list.append(ft)\n",
    "        \n",
    "rc.move_group.go(start_joints_position)\n",
    "rc.move_group.stop()\n",
    "\n",
    "f_name = generate_timedate_cache_file(caches_dir='exp', child_dir='ftsensor_recorder', filetype='pickle', prefix='ftsensor_recorder')\n",
    "with open(f_name, \"wb\") as f:\n",
    "    pickle.dump([np.array(trans_list), np.array(ft_list)], f)\n",
    "print(f\"saved to {f_name}\")"
   ]
  },
  {
   "attachments": {},
   "cell_type": "markdown",
   "metadata": {},
   "source": [
    "Evaluation"
   ]
  },
  {
   "cell_type": "code",
   "execution_count": null,
   "metadata": {},
   "outputs": [],
   "source": [
    "file_name = Path('exp/trajectory_recorder/trajectory_recorder_20230103_134417_318093.pickle')"
   ]
  },
  {
   "cell_type": "code",
   "execution_count": null,
   "metadata": {},
   "outputs": [],
   "source": [
    "# calibration from dataset\n",
    "with open(file_name, 'rb') as f:\n",
    "    data = pickle.load(f)\n",
    "    \n",
    "ft_list = data[1]\n",
    "trans_list = data[0]\n",
    "\n",
    "result = ftsensor_calibration.calibration(ft_list, trans_list)\n",
    "text = ftsensor_calibration.evaluate(np.array(ft_list), np.array(trans_list), result, no_plot=False)\n",
    "print(text)"
   ]
  },
  {
   "attachments": {},
   "cell_type": "markdown",
   "metadata": {},
   "source": [
    "Try"
   ]
  },
  {
   "cell_type": "code",
   "execution_count": null,
   "metadata": {},
   "outputs": [],
   "source": [
    "ftsensor_calibration.apply_compensation(sample_ftsensor(), sample_trans(), result)"
   ]
  }
 ],
 "metadata": {
  "language_info": {
   "name": "python"
  },
  "orig_nbformat": 4
 },
 "nbformat": 4,
 "nbformat_minor": 2
}
