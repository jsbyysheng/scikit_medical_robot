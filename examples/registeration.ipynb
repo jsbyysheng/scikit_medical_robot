{
 "cells": [
  {
   "cell_type": "code",
   "execution_count": 1,
   "id": "713689d8-bc22-4e14-ade6-7a4a8355bf86",
   "metadata": {},
   "outputs": [],
   "source": [
    "import rospy\n",
    "import numpy as np\n",
    "import pickle\n",
    "\n",
    "from pathlib import Path\n",
    "from scikitMedicalRobot.utilities import generate_timedate_cache_file, ensure_dir\n",
    "from scikitMedicalRobot.ros import tf2_helper, medical_robot_helper\n",
    "from scikitMedicalRobot.calibration.ros_sample_tools import position_recorder\n",
    "from scikitMedicalRobot.calibration.tool import tcp_calibration\n",
    "from scikitMedicalRobot.algo import rigid_transform_3D"
   ]
  },
  {
   "attachments": {},
   "cell_type": "markdown",
   "id": "0cf64a23",
   "metadata": {},
   "source": [
    "Definition: environment"
   ]
  },
  {
   "cell_type": "code",
   "execution_count": 2,
   "id": "5b6117f9",
   "metadata": {},
   "outputs": [],
   "source": [
    "A_marker_id = 9\n",
    "A_rgba=(1.0, 0.0, 0.0, 1.0)\n",
    "A_scale=(0.005, 0.005, 0.005)\n",
    "\n",
    "B_marker_id = 99 \n",
    "B_rgba=(0.0, 0.0, 1.0, 1.0)\n",
    "B_scale=(0.005, 0.005, 0.005)\n",
    "\n",
    "T_marker_id = 999\n",
    "T_rgba=(0.0, 1.0, 0.0, 1.0)\n",
    "T_scale=(0.005, 0.005, 0.005)"
   ]
  },
  {
   "attachments": {},
   "cell_type": "markdown",
   "id": "a6fb1092",
   "metadata": {},
   "source": [
    "Definition: link name "
   ]
  },
  {
   "cell_type": "code",
   "execution_count": 3,
   "id": "10acc4ad",
   "metadata": {},
   "outputs": [],
   "source": [
    "base_link_name = 'base_link'\n",
    "ee_link_name = 'tool0'\n",
    "tool_link_name = 'tool_link'\n",
    "medical_image_link = 'medical_link'\n",
    "tool_rotation_axis = '-y'"
   ]
  },
  {
   "attachments": {},
   "cell_type": "markdown",
   "id": "003d8484",
   "metadata": {},
   "source": [
    "`scikitMedicalRobot` Toolkits"
   ]
  },
  {
   "cell_type": "code",
   "execution_count": 4,
   "id": "c398b98c",
   "metadata": {},
   "outputs": [],
   "source": [
    "rospy.init_node('registeration')\n",
    "\n",
    "th = tf2_helper()\n",
    "mrh = medical_robot_helper(tool_link_name, tool_rotation_axis, ee_link_name, base_link_name, medical_image_link)"
   ]
  },
  {
   "attachments": {},
   "cell_type": "markdown",
   "id": "d92dce6e",
   "metadata": {},
   "source": [
    "Point Pickup Tool"
   ]
  },
  {
   "cell_type": "code",
   "execution_count": 5,
   "id": "64ce9656",
   "metadata": {},
   "outputs": [],
   "source": [
    "th.delete_all_markers()"
   ]
  },
  {
   "cell_type": "code",
   "execution_count": 6,
   "id": "41a66aad",
   "metadata": {},
   "outputs": [],
   "source": [
    "file_name = Path('test_data/tool_tip_calibration/20230109_170514_740159_tool_tip_calibration_endmill.pickle')\n",
    "with open(file_name, 'rb') as f:\n",
    "    data = pickle.load(f)\n",
    "\n",
    "tcp_cali_result, solution = tcp_calibration.tip2tip_optim(data)\n",
    "\n",
    "tcp_cali_matrix = th.euler_to_matrix([0, 0, 0])\n",
    "tcp_cali_matrix[0:3, 3] = np.array([tcp_cali_result[0, 0], tcp_cali_result[1, 0], tcp_cali_result[2, 0]])\n",
    "position, quat = th.matrix_to_position_quat(tcp_cali_matrix)\n",
    "th.pub_static_tf(position, quat, frame=tool_link_name, parent_frame=ee_link_name)"
   ]
  },
  {
   "attachments": {},
   "cell_type": "markdown",
   "id": "65295857",
   "metadata": {},
   "source": [
    "A: Points in Medical Coordinate System"
   ]
  },
  {
   "cell_type": "code",
   "execution_count": null,
   "id": "676754a0-7627-47b8-97f3-ae7046bfc777",
   "metadata": {},
   "outputs": [],
   "source": [
    "# points for registeration\n",
    "y_offset = 0.025 * 7\n",
    "x_offset = 0.025 * 9\n",
    "screw_header_height = 0.008\n",
    "A = np.array([\n",
    "    [0, 0, screw_header_height],\n",
    "    [0, y_offset, screw_header_height],\n",
    "    [x_offset, y_offset, screw_header_height],\n",
    "    [x_offset, 0, screw_header_height]\n",
    "])\n",
    "\n",
    "f_name = generate_timedate_cache_file(caches_dir='test_data', child_dir='position_recorder', filetype='pickle', suffix='points_in_medical')\n",
    "ensure_dir(f_name.parent)\n",
    "with open(f_name, \"wb\") as f:\n",
    "    pickle.dump(np.array(A), f)\n",
    "print(f\"saved to {f_name}\")"
   ]
  },
  {
   "attachments": {},
   "cell_type": "markdown",
   "id": "0cd8f089",
   "metadata": {},
   "source": [
    "B: Points in Robot Coordinate System"
   ]
  },
  {
   "cell_type": "code",
   "execution_count": null,
   "id": "2b760c69-74cd-43ae-8eea-2e18c9aeed43",
   "metadata": {},
   "outputs": [],
   "source": [
    "sampler = position_recorder(th, tool_link_name, name='points_in_robot', caches_dir='test_data', child_dir='position_recorder')\n",
    "sampler.run()"
   ]
  },
  {
   "attachments": {},
   "cell_type": "markdown",
   "id": "c228dc57",
   "metadata": {},
   "source": [
    "Data Loading and Visualization"
   ]
  },
  {
   "cell_type": "code",
   "execution_count": 6,
   "id": "33c66fde",
   "metadata": {},
   "outputs": [],
   "source": [
    "th.delete_all_markers()"
   ]
  },
  {
   "cell_type": "code",
   "execution_count": 8,
   "id": "a0c376f2",
   "metadata": {},
   "outputs": [],
   "source": [
    "# A\n",
    "file_name = Path('test_data/position_recorder/20230310_152108_953470_points_in_medical.pickle')\n",
    "with open(file_name, 'rb') as f:\n",
    "    A = pickle.load(f)\n",
    "\n",
    "for idx, position in enumerate(A):\n",
    "    th.add_sphere_marker(position, marker_id=idx+A_marker_id, rgba=A_rgba, scale=A_scale)\n",
    "    vis_pos = np.copy(position)\n",
    "    vis_pos[0] = vis_pos[0] + 0.01\n",
    "    th.add_text_marker(f'A{idx}', vis_pos, marker_id=idx+A_marker_id+100, rgba=A_rgba, text_size=A_scale[0]*1.2)"
   ]
  },
  {
   "cell_type": "code",
   "execution_count": null,
   "id": "5c32963e",
   "metadata": {},
   "outputs": [],
   "source": [
    "# B\n",
    "file_name = Path('test_data/position_recorder/20230310_152259_608782_points_in_robot.pickle')\n",
    "with open(file_name, 'rb') as f:\n",
    "    B = pickle.load(f)\n",
    "\n",
    "for idx, position in enumerate(B):\n",
    "    th.add_sphere_marker(position, marker_id=idx+B_marker_id, rgba=B_rgba, scale=B_scale)\n",
    "    vis_pos = np.copy(position)\n",
    "    vis_pos[0] = vis_pos[0] + 0.01\n",
    "    th.add_text_marker(f'B{idx}', vis_pos, marker_id=idx+B_marker_id+100, rgba=B_rgba, text_size=B_scale[0]*1.2)"
   ]
  },
  {
   "attachments": {},
   "cell_type": "markdown",
   "id": "62ad97a8",
   "metadata": {},
   "source": [
    "Rigidbody Transform 3D"
   ]
  },
  {
   "cell_type": "code",
   "execution_count": null,
   "id": "8d39f156-4858-454b-a18e-c6cc3f29611f",
   "metadata": {},
   "outputs": [],
   "source": [
    "R, t = rigid_transform_3D(A.T, B.T)\n",
    "T = np.eye(4)\n",
    "T[0:3, 0:3] = R\n",
    "T[0:3, 3] = t.flatten()\n",
    "\n",
    "for idx, position in enumerate(A):\n",
    "    new_position = R @ position + t.flatten()\n",
    "    th.add_sphere_marker(new_position, marker_id=idx+T_marker_id, rgba=T_rgba, scale=T_scale)\n",
    "    vis_pos = np.copy(new_position)\n",
    "    vis_pos[0] = vis_pos[0] + 0.01\n",
    "    th.add_text_marker(f'A{idx}->B{idx}', vis_pos, marker_id=idx+T_marker_id+100, rgba=T_rgba, text_size=T_scale[0]*1.2)\n",
    "\n",
    "err = 0\n",
    "for idx, position in enumerate(A):\n",
    "    new_position = R @ position + t.flatten()\n",
    "    err = err + np.linalg.norm(new_position - B[idx])\n",
    "\n",
    "err = 1000 * err / len(A)\n",
    "print(f'error: {err} mm')"
   ]
  }
 ],
 "metadata": {
  "kernelspec": {
   "display_name": "Python 3.8.10 64-bit",
   "language": "python",
   "name": "python3"
  },
  "language_info": {
   "codemirror_mode": {
    "name": "ipython",
    "version": 3
   },
   "file_extension": ".py",
   "mimetype": "text/x-python",
   "name": "python",
   "nbconvert_exporter": "python",
   "pygments_lexer": "ipython3",
   "version": "3.8.10"
  },
  "vscode": {
   "interpreter": {
    "hash": "e7370f93d1d0cde622a1f8e1c04877d8463912d04d973331ad4851f04de6915a"
   }
  }
 },
 "nbformat": 4,
 "nbformat_minor": 5
}
