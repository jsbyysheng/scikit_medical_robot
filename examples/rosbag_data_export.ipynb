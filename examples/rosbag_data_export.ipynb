{
 "cells": [
  {
   "cell_type": "code",
   "execution_count": 1,
   "metadata": {},
   "outputs": [],
   "source": [
    "# %matplotlib widget\n",
    "from pathlib import Path\n",
    "\n",
    "import numpy as np\n",
    "import pandas as pd\n",
    "from scipy.io import savemat\n",
    "\n",
    "from scikitMedicalRobot.ros import tf2_helper, ros_helper\n",
    "import scikitMedicalRobot.utilities as tools\n",
    "\n",
    "import warnings\n",
    "warnings.filterwarnings(\"ignore\", category=DeprecationWarning)\n",
    "warnings.filterwarnings(\"ignore\", category=UserWarning)"
   ]
  },
  {
   "attachments": {},
   "cell_type": "markdown",
   "metadata": {},
   "source": [
    "Definition: rosbag files"
   ]
  },
  {
   "cell_type": "code",
   "execution_count": 2,
   "metadata": {},
   "outputs": [],
   "source": [
    "bag_file = Path('test_data/rosbag_data/20230112_145234_743087_endmill_rotV0.8_D3.0_d0.5_cart3_theta0_exp0.bag')\n",
    "saving_path = bag_file.parent / Path(bag_file.stem)\n",
    "tools.ensure_dir(saving_path)"
   ]
  },
  {
   "attachments": {},
   "cell_type": "markdown",
   "metadata": {},
   "source": [
    "Definition: topics for saving"
   ]
  },
  {
   "attachments": {},
   "cell_type": "markdown",
   "metadata": {},
   "source": [
    "```\n",
    "topics_for_saving = {\n",
    "    topic1_name:[[link_name, link_name], [link_name, link_name]],\n",
    "    topic2_name:[],\n",
    "    ...\n",
    "}\n",
    "```"
   ]
  },
  {
   "cell_type": "code",
   "execution_count": 3,
   "metadata": {},
   "outputs": [],
   "source": [
    "topics_for_saving = {\n",
    "    '/ft_sensor_filtered': [['base_link', 'tool0'], ['base_link', 'tool_link'], ['tool0', 'tool_link']], \n",
    "    '/polaris_ros_node/targets': [], \n",
    "    '/servo_drill/AD7606_AD_Value': [],\n",
    "}"
   ]
  },
  {
   "attachments": {},
   "cell_type": "markdown",
   "metadata": {},
   "source": [
    "Helper Functions"
   ]
  },
  {
   "cell_type": "code",
   "execution_count": 4,
   "metadata": {},
   "outputs": [],
   "source": [
    "def save_df_as_pickle(df: pd.DataFrame, pickle_fn: Path):\n",
    "    df.to_pickle(pickle_fn)\n",
    "\n",
    "def save_df_as_mat(df: pd.DataFrame, mat_fn: Path):\n",
    "    mdic = {}\n",
    "    for key in df.columns:\n",
    "        mdic[key] = df[key].values\n",
    "    savemat(mat_fn, mdic)"
   ]
  },
  {
   "attachments": {},
   "cell_type": "markdown",
   "metadata": {},
   "source": [
    "Load Rosbag File"
   ]
  },
  {
   "cell_type": "code",
   "execution_count": 5,
   "metadata": {},
   "outputs": [
    {
     "name": "stdout",
     "output_type": "stream",
     "text": [
      "20230112_145234_743087_endmill_rotV0.8_D3.0_d0.5_cart3_theta0_exp0 - 17.31 MB\n"
     ]
    }
   ],
   "source": [
    "bag_extractor = ros_helper.rosbag_extractor(str(bag_file))\n",
    "print(f\"{bag_file.stem} - {bag_extractor.file_size(human=True)}\")"
   ]
  },
  {
   "attachments": {},
   "cell_type": "markdown",
   "metadata": {},
   "source": [
    "Extract Data"
   ]
  },
  {
   "cell_type": "code",
   "execution_count": 6,
   "metadata": {},
   "outputs": [
    {
     "data": {
      "application/vnd.jupyter.widget-view+json": {
       "model_id": "148b0c6c71e44e119e5c24aca1e296fb",
       "version_major": 2,
       "version_minor": 0
      },
      "text/plain": [
       "  0%|          | 0/84729 [00:00<?, ?it/s]"
      ]
     },
     "metadata": {},
     "output_type": "display_data"
    },
    {
     "name": "stdout",
     "output_type": "stream",
     "text": [
      "dict_keys(['/ft_sensor_filtered', '/polaris_ros_node/targets', '/servo_drill/AD7606_AD_Value'])\n"
     ]
    }
   ],
   "source": [
    "data_dict = bag_extractor.extract_data_from_topics(topics_for_saving, with_tqdm=True)\n",
    "print(data_dict.keys())"
   ]
  },
  {
   "attachments": {},
   "cell_type": "markdown",
   "metadata": {},
   "source": [
    "## Extract Data from Rosbag"
   ]
  },
  {
   "attachments": {},
   "cell_type": "markdown",
   "metadata": {},
   "source": [
    "Without tf data"
   ]
  },
  {
   "cell_type": "code",
   "execution_count": 7,
   "metadata": {},
   "outputs": [],
   "source": [
    "topic = '/servo_drill/AD7606_AD_Value'"
   ]
  },
  {
   "cell_type": "code",
   "execution_count": 8,
   "metadata": {},
   "outputs": [],
   "source": [
    "n_frames = len(data_dict[topic]['timestamp'])\n",
    "ad7606_arr = np.zeros((n_frames, 9))\n",
    "\n",
    "for idx in range(n_frames):\n",
    "    msg = data_dict[topic]['msg'][idx]\n",
    "    ad_value = msg.ad_value\n",
    "    ad7606_arr[idx, 0] = msg.header.stamp.to_sec()\n",
    "    ad7606_arr[idx, 1:] = ad_value"
   ]
  },
  {
   "cell_type": "code",
   "execution_count": 9,
   "metadata": {},
   "outputs": [],
   "source": [
    "df_ad7606 = pd.DataFrame(\n",
    "    columns=['timestamp', 'ch0', 'ch1', 'ch2', 'ch3', 'ch4', 'ch5', 'ch6', 'ch7'], \n",
    "    data=ad7606_arr\n",
    ")\n",
    "\n",
    "save_df_as_pickle(df_ad7606, saving_path / Path('df_ad7606.pkl'))\n",
    "save_df_as_mat(df_ad7606, saving_path / Path('df_ad7606.mat'))"
   ]
  },
  {
   "cell_type": "code",
   "execution_count": 10,
   "metadata": {},
   "outputs": [
    {
     "data": {
      "text/html": [
       "<div>\n",
       "<style scoped>\n",
       "    .dataframe tbody tr th:only-of-type {\n",
       "        vertical-align: middle;\n",
       "    }\n",
       "\n",
       "    .dataframe tbody tr th {\n",
       "        vertical-align: top;\n",
       "    }\n",
       "\n",
       "    .dataframe thead th {\n",
       "        text-align: right;\n",
       "    }\n",
       "</style>\n",
       "<table border=\"1\" class=\"dataframe\">\n",
       "  <thead>\n",
       "    <tr style=\"text-align: right;\">\n",
       "      <th></th>\n",
       "      <th>timestamp</th>\n",
       "      <th>ch0</th>\n",
       "      <th>ch1</th>\n",
       "      <th>ch2</th>\n",
       "      <th>ch3</th>\n",
       "      <th>ch4</th>\n",
       "      <th>ch5</th>\n",
       "      <th>ch6</th>\n",
       "      <th>ch7</th>\n",
       "    </tr>\n",
       "  </thead>\n",
       "  <tbody>\n",
       "    <tr>\n",
       "      <th>0</th>\n",
       "      <td>1.673506e+09</td>\n",
       "      <td>0.005341</td>\n",
       "      <td>0.005493</td>\n",
       "      <td>0.004578</td>\n",
       "      <td>1.767731</td>\n",
       "      <td>1.772919</td>\n",
       "      <td>1.768951</td>\n",
       "      <td>1.773376</td>\n",
       "      <td>1.768494</td>\n",
       "    </tr>\n",
       "    <tr>\n",
       "      <th>1</th>\n",
       "      <td>1.673506e+09</td>\n",
       "      <td>0.005493</td>\n",
       "      <td>0.005646</td>\n",
       "      <td>0.004578</td>\n",
       "      <td>1.768036</td>\n",
       "      <td>1.773224</td>\n",
       "      <td>1.769257</td>\n",
       "      <td>1.773682</td>\n",
       "      <td>1.768951</td>\n",
       "    </tr>\n",
       "    <tr>\n",
       "      <th>2</th>\n",
       "      <td>1.673506e+09</td>\n",
       "      <td>0.005798</td>\n",
       "      <td>0.005798</td>\n",
       "      <td>0.004730</td>\n",
       "      <td>1.768341</td>\n",
       "      <td>1.773529</td>\n",
       "      <td>1.769562</td>\n",
       "      <td>1.773987</td>\n",
       "      <td>1.769104</td>\n",
       "    </tr>\n",
       "    <tr>\n",
       "      <th>3</th>\n",
       "      <td>1.673506e+09</td>\n",
       "      <td>0.005798</td>\n",
       "      <td>0.005646</td>\n",
       "      <td>0.004730</td>\n",
       "      <td>1.768341</td>\n",
       "      <td>1.773376</td>\n",
       "      <td>1.769562</td>\n",
       "      <td>1.773987</td>\n",
       "      <td>1.768951</td>\n",
       "    </tr>\n",
       "    <tr>\n",
       "      <th>4</th>\n",
       "      <td>1.673506e+09</td>\n",
       "      <td>0.005798</td>\n",
       "      <td>0.005646</td>\n",
       "      <td>0.004730</td>\n",
       "      <td>1.768188</td>\n",
       "      <td>1.773224</td>\n",
       "      <td>1.769257</td>\n",
       "      <td>1.773834</td>\n",
       "      <td>1.768951</td>\n",
       "    </tr>\n",
       "    <tr>\n",
       "      <th>...</th>\n",
       "      <td>...</td>\n",
       "      <td>...</td>\n",
       "      <td>...</td>\n",
       "      <td>...</td>\n",
       "      <td>...</td>\n",
       "      <td>...</td>\n",
       "      <td>...</td>\n",
       "      <td>...</td>\n",
       "      <td>...</td>\n",
       "    </tr>\n",
       "    <tr>\n",
       "      <th>41520</th>\n",
       "      <td>1.673506e+09</td>\n",
       "      <td>0.005646</td>\n",
       "      <td>0.005798</td>\n",
       "      <td>0.005035</td>\n",
       "      <td>1.768188</td>\n",
       "      <td>1.773224</td>\n",
       "      <td>1.769409</td>\n",
       "      <td>1.773834</td>\n",
       "      <td>1.768799</td>\n",
       "    </tr>\n",
       "    <tr>\n",
       "      <th>41521</th>\n",
       "      <td>1.673506e+09</td>\n",
       "      <td>0.005798</td>\n",
       "      <td>0.005798</td>\n",
       "      <td>0.004883</td>\n",
       "      <td>1.768188</td>\n",
       "      <td>1.773376</td>\n",
       "      <td>1.769257</td>\n",
       "      <td>1.773834</td>\n",
       "      <td>1.768799</td>\n",
       "    </tr>\n",
       "    <tr>\n",
       "      <th>41522</th>\n",
       "      <td>1.673506e+09</td>\n",
       "      <td>0.005798</td>\n",
       "      <td>0.005951</td>\n",
       "      <td>0.005035</td>\n",
       "      <td>1.768188</td>\n",
       "      <td>1.773376</td>\n",
       "      <td>1.769409</td>\n",
       "      <td>1.773834</td>\n",
       "      <td>1.768951</td>\n",
       "    </tr>\n",
       "    <tr>\n",
       "      <th>41523</th>\n",
       "      <td>1.673506e+09</td>\n",
       "      <td>0.005493</td>\n",
       "      <td>0.005493</td>\n",
       "      <td>0.004730</td>\n",
       "      <td>1.768341</td>\n",
       "      <td>1.773376</td>\n",
       "      <td>1.769409</td>\n",
       "      <td>1.773834</td>\n",
       "      <td>1.768951</td>\n",
       "    </tr>\n",
       "    <tr>\n",
       "      <th>41524</th>\n",
       "      <td>1.673506e+09</td>\n",
       "      <td>0.005493</td>\n",
       "      <td>0.005646</td>\n",
       "      <td>0.004730</td>\n",
       "      <td>1.768036</td>\n",
       "      <td>1.773224</td>\n",
       "      <td>1.769257</td>\n",
       "      <td>1.773682</td>\n",
       "      <td>1.768799</td>\n",
       "    </tr>\n",
       "  </tbody>\n",
       "</table>\n",
       "<p>41525 rows × 9 columns</p>\n",
       "</div>"
      ],
      "text/plain": [
       "          timestamp       ch0       ch1       ch2       ch3       ch4  \\\n",
       "0      1.673506e+09  0.005341  0.005493  0.004578  1.767731  1.772919   \n",
       "1      1.673506e+09  0.005493  0.005646  0.004578  1.768036  1.773224   \n",
       "2      1.673506e+09  0.005798  0.005798  0.004730  1.768341  1.773529   \n",
       "3      1.673506e+09  0.005798  0.005646  0.004730  1.768341  1.773376   \n",
       "4      1.673506e+09  0.005798  0.005646  0.004730  1.768188  1.773224   \n",
       "...             ...       ...       ...       ...       ...       ...   \n",
       "41520  1.673506e+09  0.005646  0.005798  0.005035  1.768188  1.773224   \n",
       "41521  1.673506e+09  0.005798  0.005798  0.004883  1.768188  1.773376   \n",
       "41522  1.673506e+09  0.005798  0.005951  0.005035  1.768188  1.773376   \n",
       "41523  1.673506e+09  0.005493  0.005493  0.004730  1.768341  1.773376   \n",
       "41524  1.673506e+09  0.005493  0.005646  0.004730  1.768036  1.773224   \n",
       "\n",
       "            ch5       ch6       ch7  \n",
       "0      1.768951  1.773376  1.768494  \n",
       "1      1.769257  1.773682  1.768951  \n",
       "2      1.769562  1.773987  1.769104  \n",
       "3      1.769562  1.773987  1.768951  \n",
       "4      1.769257  1.773834  1.768951  \n",
       "...         ...       ...       ...  \n",
       "41520  1.769409  1.773834  1.768799  \n",
       "41521  1.769257  1.773834  1.768799  \n",
       "41522  1.769409  1.773834  1.768951  \n",
       "41523  1.769409  1.773834  1.768951  \n",
       "41524  1.769257  1.773682  1.768799  \n",
       "\n",
       "[41525 rows x 9 columns]"
      ]
     },
     "execution_count": 10,
     "metadata": {},
     "output_type": "execute_result"
    }
   ],
   "source": [
    "data = pd.read_pickle(saving_path / Path('df_ad7606.pkl'))\n",
    "data"
   ]
  },
  {
   "attachments": {},
   "cell_type": "markdown",
   "metadata": {},
   "source": [
    "With tf data"
   ]
  },
  {
   "cell_type": "code",
   "execution_count": 11,
   "metadata": {},
   "outputs": [],
   "source": [
    "topic = '/ft_sensor_filtered'"
   ]
  },
  {
   "cell_type": "code",
   "execution_count": 12,
   "metadata": {},
   "outputs": [],
   "source": [
    "n_frames = len(data_dict[topic]['timestamp'])\n",
    "ft_val_arr = np.zeros((n_frames, 1+6))\n",
    "\n",
    "tf_names = []\n",
    "for k in data_dict[topic].keys():\n",
    "    if '->' in k:\n",
    "        tf_names.append(k)\n",
    "tf_arr = np.zeros((n_frames, 1+7*len(tf_names)))\n",
    "\n",
    "for idx in range(n_frames):\n",
    "    msg = data_dict[topic]['msg'][idx]\n",
    "    tf_arr[idx, 0] = msg.header.stamp.to_sec()\n",
    "    # tf\n",
    "    for j, k in enumerate(tf_names):\n",
    "        (position, quat) = data_dict[topic][k][idx]\n",
    "        if position is not None and quat is not None:\n",
    "            tf_arr[idx, (1+7*j):(1+7*(j+1))] = position + quat\n",
    "        else:\n",
    "            tf_arr[idx, (1+7*j):(1+7*(j+1))] = None\n",
    "    # force\n",
    "    ft_val = [\n",
    "        msg.wrench.force.x, msg.wrench.force.y, msg.wrench.force.z, \n",
    "        msg.wrench.torque.x, msg.wrench.torque.y, msg.wrench.torque.z]\n",
    "    ft_val_arr[idx, 0] = msg.header.stamp.to_sec()\n",
    "    ft_val_arr[idx, 1:] = np.array(ft_val)"
   ]
  },
  {
   "cell_type": "code",
   "execution_count": 13,
   "metadata": {},
   "outputs": [],
   "source": [
    "df_force_tool0 = pd.DataFrame(\n",
    "    columns=['timestamp', 'fx', 'fy', 'fz', 'tx', 'ty', 'tz'], \n",
    "    data=ft_val_arr\n",
    ")\n",
    "columns=['timestamp']\n",
    "for t_n in tf_names:\n",
    "    for c in ['x', 'y', 'z', 'qx', 'qy', 'qz', 'qw']:\n",
    "        columns.append(f'{t_n}_{c}')\n",
    "        \n",
    "df_tf = pd.DataFrame(\n",
    "    columns=columns,\n",
    "    data=tf_arr\n",
    ")\n",
    "\n",
    "save_df_as_pickle(df_force_tool0, saving_path / Path('df_force_tool0.pkl'))\n",
    "save_df_as_mat(df_force_tool0, saving_path / Path('df_force_tool0.mat'))\n",
    "save_df_as_pickle(df_tf, saving_path / Path('df_tf.pkl'))\n",
    "save_df_as_mat(df_tf, saving_path / Path('df_tf.mat'))"
   ]
  },
  {
   "cell_type": "code",
   "execution_count": 14,
   "metadata": {},
   "outputs": [
    {
     "data": {
      "text/html": [
       "<div>\n",
       "<style scoped>\n",
       "    .dataframe tbody tr th:only-of-type {\n",
       "        vertical-align: middle;\n",
       "    }\n",
       "\n",
       "    .dataframe tbody tr th {\n",
       "        vertical-align: top;\n",
       "    }\n",
       "\n",
       "    .dataframe thead th {\n",
       "        text-align: right;\n",
       "    }\n",
       "</style>\n",
       "<table border=\"1\" class=\"dataframe\">\n",
       "  <thead>\n",
       "    <tr style=\"text-align: right;\">\n",
       "      <th></th>\n",
       "      <th>timestamp</th>\n",
       "      <th>fx</th>\n",
       "      <th>fy</th>\n",
       "      <th>fz</th>\n",
       "      <th>tx</th>\n",
       "      <th>ty</th>\n",
       "      <th>tz</th>\n",
       "    </tr>\n",
       "  </thead>\n",
       "  <tbody>\n",
       "    <tr>\n",
       "      <th>0</th>\n",
       "      <td>1.673506e+09</td>\n",
       "      <td>5.040294</td>\n",
       "      <td>-1.846640</td>\n",
       "      <td>-3.551726</td>\n",
       "      <td>0.493764</td>\n",
       "      <td>-0.070779</td>\n",
       "      <td>0.008543</td>\n",
       "    </tr>\n",
       "    <tr>\n",
       "      <th>1</th>\n",
       "      <td>1.673506e+09</td>\n",
       "      <td>5.038367</td>\n",
       "      <td>-1.836571</td>\n",
       "      <td>-3.556430</td>\n",
       "      <td>0.493896</td>\n",
       "      <td>-0.070633</td>\n",
       "      <td>0.008745</td>\n",
       "    </tr>\n",
       "    <tr>\n",
       "      <th>2</th>\n",
       "      <td>1.673506e+09</td>\n",
       "      <td>5.045437</td>\n",
       "      <td>-1.827355</td>\n",
       "      <td>-3.554467</td>\n",
       "      <td>0.494653</td>\n",
       "      <td>-0.070680</td>\n",
       "      <td>0.008675</td>\n",
       "    </tr>\n",
       "    <tr>\n",
       "      <th>3</th>\n",
       "      <td>1.673506e+09</td>\n",
       "      <td>5.049208</td>\n",
       "      <td>-1.836391</td>\n",
       "      <td>-3.537105</td>\n",
       "      <td>0.495210</td>\n",
       "      <td>-0.070637</td>\n",
       "      <td>0.008723</td>\n",
       "    </tr>\n",
       "    <tr>\n",
       "      <th>4</th>\n",
       "      <td>1.673506e+09</td>\n",
       "      <td>5.045622</td>\n",
       "      <td>-1.835961</td>\n",
       "      <td>-3.537261</td>\n",
       "      <td>0.495360</td>\n",
       "      <td>-0.070582</td>\n",
       "      <td>0.008619</td>\n",
       "    </tr>\n",
       "    <tr>\n",
       "      <th>...</th>\n",
       "      <td>...</td>\n",
       "      <td>...</td>\n",
       "      <td>...</td>\n",
       "      <td>...</td>\n",
       "      <td>...</td>\n",
       "      <td>...</td>\n",
       "      <td>...</td>\n",
       "    </tr>\n",
       "    <tr>\n",
       "      <th>40705</th>\n",
       "      <td>1.673506e+09</td>\n",
       "      <td>4.970628</td>\n",
       "      <td>-1.857437</td>\n",
       "      <td>-3.538025</td>\n",
       "      <td>0.495441</td>\n",
       "      <td>-0.070871</td>\n",
       "      <td>0.009002</td>\n",
       "    </tr>\n",
       "    <tr>\n",
       "      <th>40706</th>\n",
       "      <td>1.673506e+09</td>\n",
       "      <td>4.964418</td>\n",
       "      <td>-1.864569</td>\n",
       "      <td>-3.552920</td>\n",
       "      <td>0.494940</td>\n",
       "      <td>-0.070768</td>\n",
       "      <td>0.008858</td>\n",
       "    </tr>\n",
       "    <tr>\n",
       "      <th>40707</th>\n",
       "      <td>1.673506e+09</td>\n",
       "      <td>4.965260</td>\n",
       "      <td>-1.866684</td>\n",
       "      <td>-3.558738</td>\n",
       "      <td>0.494372</td>\n",
       "      <td>-0.070814</td>\n",
       "      <td>0.008875</td>\n",
       "    </tr>\n",
       "    <tr>\n",
       "      <th>40708</th>\n",
       "      <td>1.673506e+09</td>\n",
       "      <td>4.955685</td>\n",
       "      <td>-1.855092</td>\n",
       "      <td>-3.568309</td>\n",
       "      <td>0.493958</td>\n",
       "      <td>-0.070882</td>\n",
       "      <td>0.008955</td>\n",
       "    </tr>\n",
       "    <tr>\n",
       "      <th>40709</th>\n",
       "      <td>1.673506e+09</td>\n",
       "      <td>4.960856</td>\n",
       "      <td>-1.849437</td>\n",
       "      <td>-3.572580</td>\n",
       "      <td>0.493893</td>\n",
       "      <td>-0.070911</td>\n",
       "      <td>0.009101</td>\n",
       "    </tr>\n",
       "  </tbody>\n",
       "</table>\n",
       "<p>40710 rows × 7 columns</p>\n",
       "</div>"
      ],
      "text/plain": [
       "          timestamp        fx        fy        fz        tx        ty  \\\n",
       "0      1.673506e+09  5.040294 -1.846640 -3.551726  0.493764 -0.070779   \n",
       "1      1.673506e+09  5.038367 -1.836571 -3.556430  0.493896 -0.070633   \n",
       "2      1.673506e+09  5.045437 -1.827355 -3.554467  0.494653 -0.070680   \n",
       "3      1.673506e+09  5.049208 -1.836391 -3.537105  0.495210 -0.070637   \n",
       "4      1.673506e+09  5.045622 -1.835961 -3.537261  0.495360 -0.070582   \n",
       "...             ...       ...       ...       ...       ...       ...   \n",
       "40705  1.673506e+09  4.970628 -1.857437 -3.538025  0.495441 -0.070871   \n",
       "40706  1.673506e+09  4.964418 -1.864569 -3.552920  0.494940 -0.070768   \n",
       "40707  1.673506e+09  4.965260 -1.866684 -3.558738  0.494372 -0.070814   \n",
       "40708  1.673506e+09  4.955685 -1.855092 -3.568309  0.493958 -0.070882   \n",
       "40709  1.673506e+09  4.960856 -1.849437 -3.572580  0.493893 -0.070911   \n",
       "\n",
       "             tz  \n",
       "0      0.008543  \n",
       "1      0.008745  \n",
       "2      0.008675  \n",
       "3      0.008723  \n",
       "4      0.008619  \n",
       "...         ...  \n",
       "40705  0.009002  \n",
       "40706  0.008858  \n",
       "40707  0.008875  \n",
       "40708  0.008955  \n",
       "40709  0.009101  \n",
       "\n",
       "[40710 rows x 7 columns]"
      ]
     },
     "execution_count": 14,
     "metadata": {},
     "output_type": "execute_result"
    }
   ],
   "source": [
    "data = pd.read_pickle(saving_path / Path('df_force_tool0.pkl'))\n",
    "data"
   ]
  }
 ],
 "metadata": {
  "kernelspec": {
   "display_name": "Python 3",
   "language": "python",
   "name": "python3"
  },
  "language_info": {
   "codemirror_mode": {
    "name": "ipython",
    "version": 3
   },
   "file_extension": ".py",
   "mimetype": "text/x-python",
   "name": "python",
   "nbconvert_exporter": "python",
   "pygments_lexer": "ipython3",
   "version": "3.8.10"
  },
  "orig_nbformat": 4
 },
 "nbformat": 4,
 "nbformat_minor": 2
}
