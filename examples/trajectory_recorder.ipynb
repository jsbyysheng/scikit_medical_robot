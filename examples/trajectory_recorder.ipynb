{
 "cells": [
  {
   "cell_type": "code",
   "execution_count": 1,
   "id": "968d9d0e-6868-4b61-ae0f-cc3008e22495",
   "metadata": {},
   "outputs": [],
   "source": [
    "%matplotlib inline\n",
    "\n",
    "import sys\n",
    "import rospy\n",
    "import pickle\n",
    "import numpy as np\n",
    "import matplotlib.pyplot as plt\n",
    "from pathlib import Path\n",
    "from scikitMedicalRobot.ros.moveit_helper import robot_control\n",
    "from scikitMedicalRobot.ros import medical_robot_helper, tf2_helper\n",
    "from scikitMedicalRobot.calibration.tool import trajectory_recorder"
   ]
  },
  {
   "attachments": {},
   "cell_type": "markdown",
   "id": "a70fe019",
   "metadata": {},
   "source": [
    "Definition: link name "
   ]
  },
  {
   "cell_type": "code",
   "execution_count": 4,
   "id": "c5b21d25",
   "metadata": {},
   "outputs": [],
   "source": [
    "base_link_name = 'base_link'\n",
    "ee_link_name = 'tool0'\n",
    "tool_link_name = 'tool_link'\n",
    "medical_image_link = 'medical_link'\n",
    "tool_rotation_axis = '-y'"
   ]
  },
  {
   "attachments": {},
   "cell_type": "markdown",
   "id": "fd3174a3",
   "metadata": {},
   "source": [
    "`scikitMedicalRobot` Toolkits"
   ]
  },
  {
   "cell_type": "code",
   "execution_count": 7,
   "id": "efb583b3-b503-43c2-9352-6846240e4d8f",
   "metadata": {},
   "outputs": [],
   "source": [
    "rospy.init_node('tool_calibration')\n",
    "\n",
    "th = tf2_helper()\n",
    "mrh = medical_robot_helper(tool_link_name, tool_rotation_axis, ee_link_name, base_link_name, medical_image_link)\n",
    "rc = robot_control(argv=sys.argv, group_name='manipulator', ee_link_name='tool0')"
   ]
  },
  {
   "attachments": {},
   "cell_type": "markdown",
   "id": "5e7fa6bb",
   "metadata": {},
   "source": [
    "Sample Data"
   ]
  },
  {
   "cell_type": "code",
   "execution_count": null,
   "id": "274f09f4",
   "metadata": {},
   "outputs": [],
   "source": [
    "# Record Some Positions For FT Sensor Calibration\n",
    "recorder = trajectory_recorder(rc.move_group.get_current_joint_values)\n",
    "recorder.run()"
   ]
  },
  {
   "attachments": {},
   "cell_type": "markdown",
   "id": "20345993",
   "metadata": {},
   "source": [
    "Data Glance"
   ]
  },
  {
   "cell_type": "code",
   "execution_count": null,
   "id": "1920fbf6",
   "metadata": {},
   "outputs": [],
   "source": [
    "file_name = Path('exp/trajectory_recorder/trajectory_recorder_20230103_134417_318093.pickle')"
   ]
  },
  {
   "cell_type": "code",
   "execution_count": null,
   "id": "66a39a9e",
   "metadata": {},
   "outputs": [],
   "source": [
    "# load trajectory_recorder data\n",
    "with open(file_name, 'rb') as f:\n",
    "    joint_states = pickle.load(f)\n",
    "\n",
    "print(joint_states)"
   ]
  }
 ],
 "metadata": {
  "kernelspec": {
   "display_name": "Python 3 (ipykernel)",
   "language": "python",
   "name": "python3"
  },
  "language_info": {
   "codemirror_mode": {
    "name": "ipython",
    "version": 3
   },
   "file_extension": ".py",
   "mimetype": "text/x-python",
   "name": "python",
   "nbconvert_exporter": "python",
   "pygments_lexer": "ipython3",
   "version": "3.8.10"
  },
  "vscode": {
   "interpreter": {
    "hash": "e7370f93d1d0cde622a1f8e1c04877d8463912d04d973331ad4851f04de6915a"
   }
  }
 },
 "nbformat": 4,
 "nbformat_minor": 5
}
