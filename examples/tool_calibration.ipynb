{
 "cells": [
  {
   "cell_type": "code",
   "execution_count": 17,
   "id": "968d9d0e-6868-4b61-ae0f-cc3008e22495",
   "metadata": {},
   "outputs": [],
   "source": [
    "%matplotlib inline\n",
    "\n",
    "import sys\n",
    "import rospy\n",
    "import pickle\n",
    "import numpy as np\n",
    "import matplotlib.pyplot as plt\n",
    "from tqdm.auto import tqdm\n",
    "from pathlib import Path\n",
    "from scikitMedicalRobot.ros import medical_robot_helper, tf2_helper\n",
    "from scikitMedicalRobot.calibration.ros_sample_tools import tool_tip_calibration_recoder\n",
    "from scikitMedicalRobot.calibration.tool import tcp_calibration"
   ]
  },
  {
   "attachments": {},
   "cell_type": "markdown",
   "id": "a70fe019",
   "metadata": {},
   "source": [
    "Definition: link name "
   ]
  },
  {
   "cell_type": "code",
   "execution_count": 18,
   "id": "c5b21d25",
   "metadata": {},
   "outputs": [],
   "source": [
    "base_link_name = 'base_link'\n",
    "ee_link_name = 'tool0'\n",
    "tool_link_name = 'tool_link'\n",
    "medical_image_link = 'medical_link'\n",
    "tool_rotation_axis = '-y'"
   ]
  },
  {
   "attachments": {},
   "cell_type": "markdown",
   "id": "fd3174a3",
   "metadata": {},
   "source": [
    "`scikitMedicalRobot` Toolkits"
   ]
  },
  {
   "cell_type": "code",
   "execution_count": 19,
   "id": "efb583b3-b503-43c2-9352-6846240e4d8f",
   "metadata": {},
   "outputs": [],
   "source": [
    "rospy.init_node('tool_calibration_tip2tip')\n",
    "\n",
    "th = tf2_helper()\n",
    "mrh = medical_robot_helper(tool_link_name, tool_rotation_axis, ee_link_name, base_link_name, medical_image_link)"
   ]
  },
  {
   "attachments": {},
   "cell_type": "markdown",
   "id": "5e7fa6bb",
   "metadata": {},
   "source": [
    "Sample Data"
   ]
  },
  {
   "cell_type": "code",
   "execution_count": 20,
   "id": "274f09f4",
   "metadata": {},
   "outputs": [],
   "source": [
    "mrh.delete_all_markers()"
   ]
  },
  {
   "cell_type": "code",
   "execution_count": 21,
   "id": "35fb8452",
   "metadata": {},
   "outputs": [
    {
     "data": {
      "application/vnd.jupyter.widget-view+json": {
       "model_id": "362b5d60d37f413cb61ed6be67d126d4",
       "version_major": 2,
       "version_minor": 0
      },
      "text/plain": [
       "VBox(children=(HBox(children=(Button(description='Sample', style=ButtonStyle()), Button(description='Resample …"
      ]
     },
     "metadata": {},
     "output_type": "display_data"
    }
   ],
   "source": [
    "sampler = tool_tip_calibration_recoder(th, ee_link_name=ee_link_name, tool_calibration_link_name=tool_link_name)\n",
    "sampler.run()"
   ]
  },
  {
   "cell_type": "code",
   "execution_count": 22,
   "id": "1d92d0ae",
   "metadata": {},
   "outputs": [],
   "source": [
    "# print('Wait 8 seconds to start data collection...')\n",
    "# for _ in tqdm(range(8)):\n",
    "#     rospy.sleep(1)\n",
    "\n",
    "# n_frames = 500\n",
    "# print(f'Data collection started - n_frames={n_frames}.')\n",
    "# data = []\n",
    "# for _ in tqdm(range(n_frames)):\n",
    "#     raw_data = th.sample(ref_link=base_link_name, target_link=ee_link_name)\n",
    "#     data.append(th.matrix_from_transform(raw_data.transform))\n",
    "#     rospy.sleep(0.05)\n",
    "\n",
    "# print('Data collection finished.')"
   ]
  },
  {
   "attachments": {},
   "cell_type": "markdown",
   "id": "ce0ce2b0",
   "metadata": {},
   "source": [
    "Evaluation"
   ]
  },
  {
   "cell_type": "code",
   "execution_count": 23,
   "id": "dc7a02dc",
   "metadata": {},
   "outputs": [],
   "source": [
    "file_name = Path('test_data/tool_tip_calibration/20230109_170514_740159_tool_tip_calibration_endmill.pickle')"
   ]
  },
  {
   "cell_type": "code",
   "execution_count": 24,
   "id": "d1e816da",
   "metadata": {},
   "outputs": [
    {
     "name": "stdout",
     "output_type": "stream",
     "text": [
      "reprojection err: 0.3850931328825827 mm\n",
      "center: [-0.3412988761828336, 0.30673221144794205, 0.21323902729634128]\n"
     ]
    },
    {
     "data": {
      "image/png": "[encoded data removed]",
      "text/plain": [
       "<Figure size 432x288 with 1 Axes>"
      ]
     },
     "metadata": {
      "needs_background": "light"
     },
     "output_type": "display_data"
    }
   ],
   "source": [
    "th.delete_all_markers()\n",
    "\n",
    "with open(file_name, 'rb') as f:\n",
    "    data = pickle.load(f)\n",
    "    \n",
    "tcp_cali_result = tcp_calibration.tip2tip(data)\n",
    "# tcp_cali_result, solution = tcp_calibration.tip2tip_optim(data)\n",
    "err, reprojection = tcp_calibration.evaluate2(tcp_cali_result, data)\n",
    "print(f\"reprojection err: {err * 1000} mm\")\n",
    "\n",
    "center_x = np.mean(np.array(reprojection)[:, 0])\n",
    "center_y = np.mean(np.array(reprojection)[:, 1])\n",
    "center_z = np.mean(np.array(reprojection)[:, 2])\n",
    "print(f'center: {[center_x, center_y, center_z]}')\n",
    "\n",
    "x_std = (np.array(reprojection)[:, 0] - center_x) * 1000\n",
    "y_std = (np.array(reprojection)[:, 1] - center_y) * 1000\n",
    "z_std = (np.array(reprojection)[:, 2] - center_z) * 1000\n",
    "plt.plot(x_std)\n",
    "plt.plot(y_std)\n",
    "plt.plot(z_std)\n",
    "plt.show()"
   ]
  }
 ],
 "metadata": {
  "kernelspec": {
   "display_name": "Python 3 (ipykernel)",
   "language": "python",
   "name": "python3"
  },
  "language_info": {
   "codemirror_mode": {
    "name": "ipython",
    "version": 3
   },
   "file_extension": ".py",
   "mimetype": "text/x-python",
   "name": "python",
   "nbconvert_exporter": "python",
   "pygments_lexer": "ipython3",
   "version": "3.8.10"
  },
  "vscode": {
   "interpreter": {
    "hash": "e7370f93d1d0cde622a1f8e1c04877d8463912d04d973331ad4851f04de6915a"
   }
  }
 },
 "nbformat": 4,
 "nbformat_minor": 5
}
